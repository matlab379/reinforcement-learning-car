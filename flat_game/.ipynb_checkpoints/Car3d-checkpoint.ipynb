{
 "cells": [
  {
   "cell_type": "code",
   "execution_count": null,
   "metadata": {
    "collapsed": false
   },
   "outputs": [
    {
     "data": {
      "application/javascript": [
       "require.undef(\"nbextensions/jquery-ui.custom.min\");"
      ],
      "text/plain": [
       "<IPython.core.display.Javascript object>"
      ]
     },
     "metadata": {},
     "output_type": "display_data"
    },
    {
     "data": {
      "application/javascript": [
       "require.undef(\"nbextensions/glow.2.1.min\");"
      ],
      "text/plain": [
       "<IPython.core.display.Javascript object>"
      ]
     },
     "metadata": {},
     "output_type": "display_data"
    },
    {
     "data": {
      "application/javascript": [
       "require.undef(\"nbextensions/glowcomm\");"
      ],
      "text/plain": [
       "<IPython.core.display.Javascript object>"
      ]
     },
     "metadata": {},
     "output_type": "display_data"
    },
    {
     "data": {
      "application/javascript": [
       "require.undef(\"nbextensions/pako.min\");"
      ],
      "text/plain": [
       "<IPython.core.display.Javascript object>"
      ]
     },
     "metadata": {},
     "output_type": "display_data"
    },
    {
     "data": {
      "application/javascript": [
       "require.undef(\"nbextensions/pako_deflate.min\");"
      ],
      "text/plain": [
       "<IPython.core.display.Javascript object>"
      ]
     },
     "metadata": {},
     "output_type": "display_data"
    },
    {
     "data": {
      "application/javascript": [
       "require.undef(\"nbextensions/pako_inflate.min\");"
      ],
      "text/plain": [
       "<IPython.core.display.Javascript object>"
      ]
     },
     "metadata": {},
     "output_type": "display_data"
    },
    {
     "data": {
      "application/javascript": [
       "require([\"nbextensions/glowcomm\"], function(){console.log(\"glowcomm loaded\");})"
      ],
      "text/plain": [
       "<IPython.core.display.Javascript object>"
      ]
     },
     "metadata": {},
     "output_type": "display_data"
    },
    {
     "data": {
      "text/html": [
       "<div id=\"glowscript\" class=\"glowscript\"></div>"
      ],
      "text/plain": [
       "<IPython.core.display.HTML object>"
      ]
     },
     "metadata": {},
     "output_type": "display_data"
    },
    {
     "data": {
      "application/javascript": [
       "window.__context = { glowscript_container: $(\"#glowscript\").removeAttr(\"id\")}"
      ],
      "text/plain": [
       "<IPython.core.display.Javascript object>"
      ]
     },
     "metadata": {},
     "output_type": "display_data"
    }
   ],
   "source": [
    "import numpy as np\n",
    "\n",
    "from vpython import *\n",
    "\n",
    "class GameState():\n",
    "    def __init__(self):\n",
    "        self.scene = display(title='Examples of Tetrahedrons', x=0, y=0, width=600, height=600, center=vector(0,0,0), background=vector(0,0,0))\n",
    "\n",
    "        Nobstale = 20  # change this to have more or fewer atoms\n",
    "        # Typical values\n",
    "        L = 1 # container is a cube L on a side\n",
    "        gray = color.gray(0.7) # color of edges of container\n",
    "        mass = 4E-3/6E23 # helium mass\n",
    "        self.r_car = 0.027 # wildly exaggerated size of helium atom\n",
    "        self.r_obstale = 0.1\n",
    "        self.r_sensor =  0.0035\n",
    "        self.dt = 0.05\n",
    "        #the limitation of space\n",
    "        d = L/2 + self.r_obstale\n",
    "        r = 0.005\n",
    "        boxbottom = curve(color=gray, radius=r)\n",
    "        boxbottom.append([vector(-d,-d,-d), vector(-d,-d,d), vector(d,-d,d), vector(d,-d,-d), vector(-d,-d,-d)])\n",
    "        boxtop = curve(color=gray, radius=r)\n",
    "        boxtop.append([vector(-d,d,-d), vector(-d,d,d), vector(d,d,d), vector(d,d,-d), vector(-d,d,-d)])\n",
    "        vert1 = curve(color=gray, radius=r)\n",
    "        vert2 = curve(color=gray, radius=r)\n",
    "        vert3 = curve(color=gray, radius=r)\n",
    "        vert4 = curve(color=gray, radius=r)\n",
    "        vert1.append([vector(-d,-d,-d), vector(-d,d,-d)])\n",
    "        vert2.append([vector(-d,-d,d), vector(-d,d,d)])\n",
    "        vert3.append([vector(d,-d,d), vector(d,d,d)])\n",
    "        vert4.append([vector(d,-d,-d), vector(d,d,-d)])\n",
    "        #define the car and the obstales\n",
    "        self.car = sphere (pos=vector(0.05,0.02,0.04), color = color.green, radius = self.r_car, make_trail=True, retain=20)\n",
    "        self.obstales = []\n",
    "        self.sensor_arms = []\n",
    "        self.opos = []\n",
    "        \n",
    "        for i in range(Nobstale):\n",
    "            x =L*random()-L/2\n",
    "            y = L*random()-L/2\n",
    "            z = L*random()-L/2\n",
    "            self.obstales.append(sphere(pos=vector(x,y,z), radius=self.r_obstale, color=gray))\n",
    "            self.opos.append(vector(x,y,z))\n",
    "        self.car.v = vector (-0.02, -0.055, +0.075)\n",
    "        #side = side - thk*0.5 - car.radius\n",
    "        self.side = d - r*0.5 - self.car.radius\n",
    "        self.show_sensor = True\n",
    "        self.initialed =  False\n",
    "        self.crashed = False\n",
    "    def frame_step(self, action):\n",
    "        if action == 0:\n",
    "            self.car.v.x += 0.05\n",
    "        elif action == 1:\n",
    "            self.car.v.y += 0.05\n",
    "        elif action == 2:\n",
    "            self.car.v.z += 0.05\n",
    "        elif action == 3:\n",
    "            self.car.v.y -= 0.05\n",
    "        elif action == 4:\n",
    "            self.car.v.z -= 0.05\n",
    "        elif action == 5:\n",
    "            self.car.v.y -= 0.05\n",
    "        while True:\n",
    "            rate(200)\n",
    "\n",
    "            self.car.pos = self.car.pos + self.car.v*self.dt\n",
    "            if not self.initialed:\n",
    "                for i in range(0,8):\n",
    "                    sonar_arm = self.make_sonar_arm(self.car.pos,self.r_car, 0)\n",
    "                    for sensor in sonar_arm:\n",
    "                        sen = sensor.rotate(origin=self.car.pos, axis=vector(0,1,0), angle=i*pi/4)\n",
    "\n",
    "                    self.sensor_arms.append(sonar_arm)\n",
    "                for i in range(1,8):\n",
    "                    sonar_arm = self.make_sonar_arm(self.car.pos,self.r_car, 0)\n",
    "                    for sensor in sonar_arm:\n",
    "                        sen = sensor.rotate(origin=self.car.pos, axis=vector(0,0,1), angle=i*pi/4)\n",
    "\n",
    "                    self.sensor_arms.append(sonar_arm)\n",
    "                for i in range(1,8):\n",
    "                    sonar_arm = self.make_sonar_arm(self.car.pos,self.r_car, 0)\n",
    "                    for sensor in sonar_arm:\n",
    "                        sen = sensor.rotate(origin=self.car.pos, axis=vector(0,1,1), angle=i*pi/4)\n",
    "                    self.sensor_arms.append(sonar_arm)\n",
    "                for i in range(1,8):\n",
    "                    sonar_arm = self.make_sonar_arm(self.car.pos,self.r_car, 0)\n",
    "                    for sensor in sonar_arm:\n",
    "                        sen = sensor.rotate(origin=self.car.pos, axis=vector(0,1,-1), angle=i*pi/4)\n",
    "                    self.sensor_arms.append(sonar_arm)\n",
    "                for i in range(1,8):\n",
    "                    sonar_arm = self.make_sonar_arm(self.car.pos,self.r_car, 1)\n",
    "                    for sensor in sonar_arm:\n",
    "                        sen = sensor.rotate(origin=self.car.pos, axis=vector(1,0,1), angle=i*pi/4)\n",
    "                    self.sensor_arms.append(sonar_arm)\n",
    "                for i in range(1,8):\n",
    "                    sonar_arm = self.make_sonar_arm(self.car.pos,self.r_car, 1)\n",
    "                    for sensor in sonar_arm:\n",
    "                        sen = sensor.rotate(origin=self.car.pos, axis=vector(-1,0,1), angle=i*pi/4)\n",
    "                    self.sensor_arms.append(sonar_arm)\n",
    "                for i in range(1,8):\n",
    "                    sonar_arm = self.make_sonar_arm(self.car.pos,self.r_car, 2)\n",
    "                    for sensor in sonar_arm:\n",
    "                        sen = sensor.rotate(origin=self.car.pos, axis=vector(1,1,0), angle=i*pi/4)\n",
    "                    self.sensor_arms.append(sonar_arm)\n",
    "                for i in range(1,8):\n",
    "                    sonar_arm = self.make_sonar_arm(self.car.pos,self.r_car, 2)\n",
    "                    for sensor in sonar_arm:\n",
    "                        sen = sensor.rotate(origin=self.car.pos, axis=vector(-1,1,0), angle=i*pi/4)\n",
    "                    self.sensor_arms.append(sonar_arm)\n",
    "\n",
    "                self.initialed = True \n",
    "            else:\n",
    "                self.update_sonar_arm(self.sensor_arms, self.car.v)\n",
    "\n",
    "                \n",
    "            readings = self.get_sonar_readings(self.sensor_arms, self.obstales)\n",
    "            #print(len(readings))\n",
    "            #print(readings)\n",
    "            \n",
    "            state = np.array([readings])   \n",
    "\n",
    "            if self.car_is_crashed(readings):\n",
    "                self.carshed = True\n",
    "                reward = -500\n",
    "                self.recover_from_crash(self.car.v)\n",
    "            else:\n",
    "                reward = -5 + int(self.sum_readins(readings) / 10)\n",
    "                \n",
    "            if not (self.side > self.car.pos.x > -self.side):\n",
    "                self.car.v.x = - self.car.v.x\n",
    "            elif not (self.side > self.car.pos.y > -self.side):\n",
    "                self.car.v.y = - self.car.v.y\n",
    "            elif not (self.side > self.car.pos.z > -self.side):\n",
    "                self.car.v.z = - self.car.v.z   \n",
    "           \n",
    "           \n",
    "\n",
    "    def sum_readins(self,readings):\n",
    "        tot = 0\n",
    "        for i in readings:\n",
    "            tot += i\n",
    "            return tot\n",
    "    def recover_from_crash(self,v):\n",
    "        while self.crashed:\n",
    "            self.car.v = -20 * v\n",
    "            \n",
    "            self.crashed = False\n",
    "            \n",
    " \n",
    "            \n",
    "    def car_is_crashed(self, readings):\n",
    "        for i in readings:\n",
    "            if i == 0:\n",
    "                return True\n",
    "        return False\n",
    "            \n",
    "    def check_collision(self, sensor, obstales):\n",
    "        for obstale in obstales:\n",
    "            if mag2(obstale.pos-sensor.pos) < (self.r_sensor + self.r_obstale)**2:\n",
    "                return True\n",
    "        return False\n",
    "    def check_edge(self, sensor):\n",
    "        if not (self.side > sensor.pos.x > -self.side):\n",
    "            return True\n",
    "        elif not (self.side > sensor.pos.y > -self.side):\n",
    "            return True\n",
    "        elif not (self.side > sensor.pos.z > -self.side):\n",
    "            return True\n",
    "        else:\n",
    "            return False\n",
    "    \n",
    "    def get_sonar_readings(self, sensor_arms, obstales):\n",
    "        readings = []\n",
    "        \n",
    "        for sensor_arm in sensor_arms:\n",
    "            appened = False\n",
    "            i = 0\n",
    "            for sensor in sensor_arm:\n",
    "                \n",
    "                if self.check_collision(sensor, obstales) or self.check_edge(sensor):\n",
    "                    readings.append(i)\n",
    "                    appened = True\n",
    "                    break\n",
    "                i += 1\n",
    "            if not appened:\n",
    "                readings.append(i)\n",
    "        return readings\n",
    "    \n",
    "    \n",
    "    def update_sonar_arm(self,sensor_arms, v):\n",
    "        interval = 0.005  # Default spread.\n",
    "        arm_points = []\n",
    "        \n",
    "        \n",
    "        # Make an arm. We build it flat because we'll rotate it about the\n",
    "        # center later.\n",
    "       \n",
    "        for sensor_arm in sensor_arms:\n",
    "            for sensor in sensor_arm:\n",
    "                sensor.pos = sensor.pos + v*self.dt\n",
    "                if not (self.side > sensor.pos.x > -self.side and self.side > sensor.pos.y > -self.side and self.side > sensor.pos.z > -self.side ):\n",
    "                    sensor.visible = False\n",
    "                else:\n",
    "                    sensor.visible = True\n",
    "\n",
    "\n",
    "\n",
    "       \n",
    "    def make_sonar_arm(self, pos, r_car, condition):\n",
    "        \n",
    "        interval = 0.05  # Default spread.\n",
    "        arm_points = []\n",
    "        \n",
    "        sensor_arm = []\n",
    "        # Make an arm. We build it flat because we'll rotate it about the\n",
    "        # center later.\n",
    "        if condition == 0:\n",
    "            \n",
    "            for i in range(1, 10):\n",
    "                arm_points.append(vector(pos.x + (interval * i), pos.y, pos.z))\n",
    "        elif condition == 1:\n",
    "            for i in range(1, 10):\n",
    "                arm_points.append(vector(pos.x, pos.y + (interval * i), pos.z))\n",
    "        elif condition == 2:\n",
    "            for i in range(1, 10):\n",
    "                arm_points.append(vector(pos.x, pos.y, pos.z + (interval * i)))\n",
    "        for point in arm_points:\n",
    "            sensor_arm.append(sphere(pos=point, radius=self.r_sensor, color=color.red))\n",
    "            \n",
    "        return sensor_arm\n",
    "    \n",
    "\n",
    "            \n",
    "            \n",
    "game_state = GameState()\n",
    "while True:\n",
    "    game_state.frame_step((np.random.randint(0,6)))"
   ]
  }
 ],
 "metadata": {
  "kernelspec": {
   "display_name": "VPython",
   "language": "python",
   "name": "vpython"
  },
  "language_info": {
   "codemirror_mode": {
    "name": "ipython",
    "version": 3
   },
   "file_extension": ".py",
   "mimetype": "text/x-python",
   "name": "python",
   "nbconvert_exporter": "python",
   "pygments_lexer": "ipython3",
   "version": "3.5.1"
  }
 },
 "nbformat": 4,
 "nbformat_minor": 0
}
