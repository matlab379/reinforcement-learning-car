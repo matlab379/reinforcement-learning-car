{
 "cells": [
  {
   "cell_type": "code",
   "execution_count": null,
   "metadata": {
    "collapsed": false
   },
   "outputs": [
    {
     "data": {
      "application/javascript": [
       "require.undef(\"nbextensions/jquery-ui.custom.min\");"
      ],
      "text/plain": [
       "<IPython.core.display.Javascript object>"
      ]
     },
     "metadata": {},
     "output_type": "display_data"
    },
    {
     "data": {
      "application/javascript": [
       "require.undef(\"nbextensions/glow.2.1.min\");"
      ],
      "text/plain": [
       "<IPython.core.display.Javascript object>"
      ]
     },
     "metadata": {},
     "output_type": "display_data"
    },
    {
     "data": {
      "application/javascript": [
       "require.undef(\"nbextensions/glowcomm\");"
      ],
      "text/plain": [
       "<IPython.core.display.Javascript object>"
      ]
     },
     "metadata": {},
     "output_type": "display_data"
    },
    {
     "data": {
      "application/javascript": [
       "require.undef(\"nbextensions/pako.min\");"
      ],
      "text/plain": [
       "<IPython.core.display.Javascript object>"
      ]
     },
     "metadata": {},
     "output_type": "display_data"
    },
    {
     "data": {
      "application/javascript": [
       "require.undef(\"nbextensions/pako_deflate.min\");"
      ],
      "text/plain": [
       "<IPython.core.display.Javascript object>"
      ]
     },
     "metadata": {},
     "output_type": "display_data"
    },
    {
     "data": {
      "application/javascript": [
       "require.undef(\"nbextensions/pako_inflate.min\");"
      ],
      "text/plain": [
       "<IPython.core.display.Javascript object>"
      ]
     },
     "metadata": {},
     "output_type": "display_data"
    },
    {
     "data": {
      "application/javascript": [
       "require([\"nbextensions/glowcomm\"], function(){console.log(\"glowcomm loaded\");})"
      ],
      "text/plain": [
       "<IPython.core.display.Javascript object>"
      ]
     },
     "metadata": {},
     "output_type": "display_data"
    },
    {
     "data": {
      "text/html": [
       "<div id=\"glowscript\" class=\"glowscript\"></div>"
      ],
      "text/plain": [
       "<IPython.core.display.HTML object>"
      ]
     },
     "metadata": {},
     "output_type": "display_data"
    },
    {
     "data": {
      "application/javascript": [
       "window.__context = { glowscript_container: $(\"#glowscript\").removeAttr(\"id\")}"
      ],
      "text/plain": [
       "<IPython.core.display.Javascript object>"
      ]
     },
     "metadata": {},
     "output_type": "display_data"
    }
   ],
   "source": [
    "import numpy as np\n",
    "\n",
    "from vpython import *\n",
    "\n",
    "class GameState():\n",
    "    def __init__(self):\n",
    "        self.scene = display(title='Examples of Tetrahedrons', x=0, y=0, width=600, height=600, center=vector(0,0,0), background=vector(0,0,0))\n",
    "\n",
    "        Nobstale = 11  # change this to have more or fewer atoms\n",
    "        # Typical values\n",
    "        L = 1 # container is a cube L on a side\n",
    "        gray = color.gray(0.7) # color of edges of container\n",
    "        mass = 4E-3/6E23 # helium mass\n",
    "        self.r_car = 0.027 # wildly exaggerated size of helium atom\n",
    "        r_obstale = 0.1\n",
    "        r_sensor =  0.005\n",
    "        self.dt = 0.05\n",
    "        #the limitation of space\n",
    "        d = L/2+r_obstale\n",
    "        r = 0.005\n",
    "        boxbottom = curve(color=gray, radius=r)\n",
    "        boxbottom.append([vector(-d,-d,-d), vector(-d,-d,d), vector(d,-d,d), vector(d,-d,-d), vector(-d,-d,-d)])\n",
    "        boxtop = curve(color=gray, radius=r)\n",
    "        boxtop.append([vector(-d,d,-d), vector(-d,d,d), vector(d,d,d), vector(d,d,-d), vector(-d,d,-d)])\n",
    "        vert1 = curve(color=gray, radius=r)\n",
    "        vert2 = curve(color=gray, radius=r)\n",
    "        vert3 = curve(color=gray, radius=r)\n",
    "        vert4 = curve(color=gray, radius=r)\n",
    "        vert1.append([vector(-d,-d,-d), vector(-d,d,-d)])\n",
    "        vert2.append([vector(-d,-d,d), vector(-d,d,d)])\n",
    "        vert3.append([vector(d,-d,d), vector(d,d,d)])\n",
    "        vert4.append([vector(d,-d,-d), vector(d,d,-d)])\n",
    "        #define the car and the obstales\n",
    "        self.car = sphere (color = color.green, radius = self.r_car, make_trail=False, retain=20)\n",
    "        self.obstales = []\n",
    "        self.opos = []\n",
    "        self.sensors = []\n",
    "        for i in range(Nobstale):\n",
    "            x =L*random()-L/2\n",
    "            y = L*random()-L/2\n",
    "            z = L*random()-L/2\n",
    "            self.obstales.append(sphere(pos=vector(x,y,z), radius=r_obstale, color=gray))\n",
    "            self.opos.append(vector(x,y,z))\n",
    "        self.car.v = vector (-0.005, -0.0025, +0.075)\n",
    "        #side = side - thk*0.5 - car.radius\n",
    "        self.side = d - r*0.5 - self.car.radius\n",
    "        self.show_sensor = True\n",
    "    def frame_step(self, action):\n",
    "        if action == 0:\n",
    "            self.car.v.x += 0.05\n",
    "        elif action == 1:\n",
    "            self.car.v.y += 0.05\n",
    "        elif action == 2:\n",
    "            self.car.v.z += 0.05\n",
    "        while True:\n",
    "            rate(200)\n",
    "            self.car.pos = self.car.pos + self.car.v*self.dt\n",
    "            self.make_sonar_arm(self.car.pos,self.r_car)\n",
    "            if not (self.side > self.car.pos.x > -self.side):\n",
    "                self.car.v.x = -self.car.v.x\n",
    "            if not (self.side > self.car.pos.y > -self.side):\n",
    "                self.car.v.y = -self.car.v.y\n",
    "            if not (self.side > self.car.pos.z > -self.side):\n",
    "                self.car.v.z = -self.car.v.z\n",
    "            \n",
    "\n",
    "       \n",
    "    def make_sonar_arm(self, pos, r_car):\n",
    "        interval = 10  # Default spread.\n",
    "        arm_points = []\n",
    "        # Make an arm. We build it flat because we'll rotate it about the\n",
    "        # center later.\n",
    "        for i in range(1, 40):\n",
    "            arm_points.append(vector(r_car + pos.x + (interval * i), pos.y, pos.z))\n",
    "        for point in arm_points:\n",
    "            for i in range(1,7):\n",
    "                pos_rot = point.rotate(angle=i*pi/4, axis=vector(1,0,0))\n",
    "                arm_points.append(pos_rot)\n",
    "        for point in arm_points:\n",
    "            for i in rang(1,7):\n",
    "                pos_rot = point.rotate(angle=i*pi/4, axis=vector(0,1,0))\n",
    "                arm_points.append(pos_rot)\n",
    "        if self.show_sensor:\n",
    "            for position in arm_points:\n",
    "                 self.sensors.append(points(position, size=50, color=color.red))\n",
    "            \n",
    "game_state = GameState()\n",
    "while True:\n",
    "    game_state.frame_step((np.random.randint(0,3)))"
   ]
  }
 ],
 "metadata": {
  "kernelspec": {
   "display_name": "VPython",
   "language": "python",
   "name": "vpython"
  },
  "language_info": {
   "codemirror_mode": {
    "name": "ipython",
    "version": 3
   },
   "file_extension": ".py",
   "mimetype": "text/x-python",
   "name": "python",
   "nbconvert_exporter": "python",
   "pygments_lexer": "ipython3",
   "version": "3.5.1"
  }
 },
 "nbformat": 4,
 "nbformat_minor": 0
}
