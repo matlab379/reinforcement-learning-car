{
 "cells": [
  {
   "cell_type": "code",
   "execution_count": 1,
   "metadata": {
    "collapsed": false
   },
   "outputs": [
    {
     "data": {
      "application/javascript": [
       "require.undef(\"nbextensions/jquery-ui.custom.min\");"
      ],
      "text/plain": [
       "<IPython.core.display.Javascript object>"
      ]
     },
     "metadata": {},
     "output_type": "display_data"
    },
    {
     "data": {
      "application/javascript": [
       "require.undef(\"nbextensions/glow.2.1.min\");"
      ],
      "text/plain": [
       "<IPython.core.display.Javascript object>"
      ]
     },
     "metadata": {},
     "output_type": "display_data"
    },
    {
     "data": {
      "application/javascript": [
       "require.undef(\"nbextensions/glowcomm\");"
      ],
      "text/plain": [
       "<IPython.core.display.Javascript object>"
      ]
     },
     "metadata": {},
     "output_type": "display_data"
    },
    {
     "data": {
      "application/javascript": [
       "require.undef(\"nbextensions/pako.min\");"
      ],
      "text/plain": [
       "<IPython.core.display.Javascript object>"
      ]
     },
     "metadata": {},
     "output_type": "display_data"
    },
    {
     "data": {
      "application/javascript": [
       "require.undef(\"nbextensions/pako_deflate.min\");"
      ],
      "text/plain": [
       "<IPython.core.display.Javascript object>"
      ]
     },
     "metadata": {},
     "output_type": "display_data"
    },
    {
     "data": {
      "application/javascript": [
       "require.undef(\"nbextensions/pako_inflate.min\");"
      ],
      "text/plain": [
       "<IPython.core.display.Javascript object>"
      ]
     },
     "metadata": {},
     "output_type": "display_data"
    },
    {
     "data": {
      "application/javascript": [
       "require([\"nbextensions/glowcomm\"], function(){console.log(\"glowcomm loaded\");})"
      ],
      "text/plain": [
       "<IPython.core.display.Javascript object>"
      ]
     },
     "metadata": {},
     "output_type": "display_data"
    },
    {
     "data": {
      "text/html": [
       "<div id=\"glowscript\" class=\"glowscript\"></div>"
      ],
      "text/plain": [
       "<IPython.core.display.HTML object>"
      ]
     },
     "metadata": {},
     "output_type": "display_data"
    },
    {
     "data": {
      "application/javascript": [
       "window.__context = { glowscript_container: $(\"#glowscript\").removeAttr(\"id\")}"
      ],
      "text/plain": [
       "<IPython.core.display.Javascript object>"
      ]
     },
     "metadata": {},
     "output_type": "display_data"
    },
    {
     "data": {
      "text/html": [
       "<div id=\"glowscript\" class=\"glowscript\"></div>"
      ],
      "text/plain": [
       "<IPython.core.display.HTML object>"
      ]
     },
     "metadata": {},
     "output_type": "display_data"
    },
    {
     "data": {
      "application/javascript": [
       "window.__context = { glowscript_container: $(\"#glowscript\").removeAttr(\"id\")}"
      ],
      "text/plain": [
       "<IPython.core.display.Javascript object>"
      ]
     },
     "metadata": {},
     "output_type": "display_data"
    },
    {
     "name": "stdout",
     "output_type": "stream",
     "text": [
      "[<vpython.vpython.sphere object at 0x7f5a80037c18>, <vpython.vpython.sphere object at 0x7f5a800372e8>, <vpython.vpython.sphere object at 0x7f5a80037160>, <vpython.vpython.sphere object at 0x7f5a8003d2b0>, <vpython.vpython.sphere object at 0x7f5a8003d518>, <vpython.vpython.sphere object at 0x7f5a8003d780>, <vpython.vpython.sphere object at 0x7f5a8003d9e8>, <vpython.vpython.sphere object at 0x7f5a8003dc50>, <vpython.vpython.sphere object at 0x7f5a8003deb8>, <vpython.vpython.sphere object at 0x7f5a80042160>, <vpython.vpython.sphere object at 0x7f5a800423c8>, <vpython.vpython.sphere object at 0x7f5a80042630>, <vpython.vpython.sphere object at 0x7f5a80042898>, <vpython.vpython.sphere object at 0x7f5a80042b00>, <vpython.vpython.sphere object at 0x7f5a80042d68>, <vpython.vpython.sphere object at 0x7f5a80042fd0>, <vpython.vpython.sphere object at 0x7f5a7b102278>, <vpython.vpython.sphere object at 0x7f5a7b1024e0>, <vpython.vpython.sphere object at 0x7f5a80042e80>, <vpython.vpython.sphere object at 0x7f5a800427b8>, <vpython.vpython.sphere object at 0x7f5a80042198>, <vpython.vpython.sphere object at 0x7f5a8003dac8>, <vpython.vpython.sphere object at 0x7f5a8003d3c8>, <vpython.vpython.sphere object at 0x7f5a7b102400>, <vpython.vpython.sphere object at 0x7f5a7b1027b8>, <vpython.vpython.sphere object at 0x7f5a7b102a20>, <vpython.vpython.sphere object at 0x7f5a994f2d68>, <vpython.vpython.sphere object at 0x7f5a7b102eb8>, <vpython.vpython.sphere object at 0x7f5a7b107160>, <vpython.vpython.sphere object at 0x7f5a7b1073c8>, <vpython.vpython.sphere object at 0x7f5a7b107630>, <vpython.vpython.sphere object at 0x7f5a7b117d68>, <vpython.vpython.sphere object at 0x7f5a7b117eb8>, <vpython.vpython.sphere object at 0x7f5a7b117ef0>, <vpython.vpython.sphere object at 0x7f5a7b1174a8>, <vpython.vpython.sphere object at 0x7f5a7b117240>, <vpython.vpython.sphere object at 0x7f5a7b10df98>, <vpython.vpython.sphere object at 0x7f5a7b10dd30>, <vpython.vpython.sphere object at 0x7f5a7b10dac8>, <vpython.vpython.sphere object at 0x7f5a7b10d278>, <vpython.vpython.sphere object at 0x7f5a7b10d4e0>, <vpython.vpython.sphere object at 0x7f5a7b10d748>, <vpython.vpython.sphere object at 0x7f5a80042e48>, <vpython.vpython.sphere object at 0x7f5a8003dd30>, <vpython.vpython.sphere object at 0x7f5a7b102128>, <vpython.vpython.sphere object at 0x7f5a7b102d68>, <vpython.vpython.sphere object at 0x7f5a7b107400>, <vpython.vpython.sphere object at 0x7f5a7b107898>, <vpython.vpython.sphere object at 0x7f5a7b107c18>, <vpython.vpython.sphere object at 0x7f5a7b107e80>, <vpython.vpython.sphere object at 0x7f5a7b11a1d0>, <vpython.vpython.sphere object at 0x7f5a7b11a438>, <vpython.vpython.sphere object at 0x7f5a7b11a6a0>, <vpython.vpython.sphere object at 0x7f5a7b11a908>, <vpython.vpython.sphere object at 0x7f5a7b11ab70>, <vpython.vpython.sphere object at 0x7f5a7b11add8>, <vpython.vpython.sphere object at 0x7f5a7b11af60>, <vpython.vpython.sphere object at 0x7f5a7b11ac50>, <vpython.vpython.sphere object at 0x7f5a7b11a550>, <vpython.vpython.sphere object at 0x7f5a7b107da0>, <vpython.vpython.sphere object at 0x7f5a7b1074a8>, <vpython.vpython.sphere object at 0x7f5a7b10d128>, <vpython.vpython.sphere object at 0x7f5a7b10d518>, <vpython.vpython.sphere object at 0x7f5a7b10d978>, <vpython.vpython.sphere object at 0x7f5a8003d0b8>, <vpython.vpython.sphere object at 0x7f5a80037940>, <vpython.vpython.sphere object at 0x7f5a80037f98>, <vpython.vpython.sphere object at 0x7f5a7b128860>, <vpython.vpython.sphere object at 0x7f5a7b1285f8>, <vpython.vpython.sphere object at 0x7f5a7b128390>, <vpython.vpython.sphere object at 0x7f5a7b128128>, <vpython.vpython.sphere object at 0x7f5a7b128be0>, <vpython.vpython.sphere object at 0x7f5a7b128e48>, <vpython.vpython.sphere object at 0x7f5a7b123f28>, <vpython.vpython.sphere object at 0x7f5a7b123cc0>, <vpython.vpython.sphere object at 0x7f5a7b123a58>, <vpython.vpython.sphere object at 0x7f5a80037d68>, <vpython.vpython.sphere object at 0x7f5a8003da20>, <vpython.vpython.sphere object at 0x7f5a7b117be0>, <vpython.vpython.sphere object at 0x7f5a7b117320>, <vpython.vpython.sphere object at 0x7f5a7b11a9e8>, <vpython.vpython.sphere object at 0x7f5a7b107198>, <vpython.vpython.sphere object at 0x7f5a7b11f2b0>, <vpython.vpython.sphere object at 0x7f5a7b11f518>, <vpython.vpython.sphere object at 0x7f5a7b11f780>, <vpython.vpython.sphere object at 0x7f5a7b11fb38>, <vpython.vpython.sphere object at 0x7f5a7b11fda0>, <vpython.vpython.sphere object at 0x7f5a800758d0>, <vpython.vpython.sphere object at 0x7f5a7b128cc0>, <vpython.vpython.sphere object at 0x7f5a7b1284e0>, <vpython.vpython.sphere object at 0x7f5a7b123a20>, <vpython.vpython.sphere object at 0x7f5a7b13a780>, <vpython.vpython.sphere object at 0x7f5a7b13a8d0>, <vpython.vpython.sphere object at 0x7f5a7b13ab38>, <vpython.vpython.sphere object at 0x7f5a7b13ada0>, <vpython.vpython.sphere object at 0x7f5a7b13aeb8>, <vpython.vpython.sphere object at 0x7f5a7b13a7f0>, <vpython.vpython.sphere object at 0x7f5a7b10d5c0>, <vpython.vpython.sphere object at 0x7f5a7b11a2b0>, <vpython.vpython.sphere object at 0x7f5a7b11f550>, <vpython.vpython.sphere object at 0x7f5a7b11fcc0>, <vpython.vpython.sphere object at 0x7f5a7b1280f0>, <vpython.vpython.sphere object at 0x7f5a7b1236a0>, <vpython.vpython.sphere object at 0x7f5a7b123470>, <vpython.vpython.sphere object at 0x7f5a7b123208>, <vpython.vpython.sphere object at 0x7f5a7b131f60>, <vpython.vpython.sphere object at 0x7f5a7b131160>, <vpython.vpython.sphere object at 0x7f5a7b1313c8>, <vpython.vpython.sphere object at 0x7f5a7b131630>, <vpython.vpython.sphere object at 0x7f5a7b131898>, <vpython.vpython.sphere object at 0x7f5a7b131b00>, <vpython.vpython.sphere object at 0x7f5a7b131da0>, <vpython.vpython.sphere object at 0x7f5a7a8be240>, <vpython.vpython.sphere object at 0x7f5a7a8be4a8>, <vpython.vpython.sphere object at 0x7f5a7a8be710>, <vpython.vpython.sphere object at 0x7f5a7a8be978>, <vpython.vpython.sphere object at 0x7f5a7a8bebe0>, <vpython.vpython.sphere object at 0x7f5a7a8bee48>, <vpython.vpython.sphere object at 0x7f5a7a8befd0>, <vpython.vpython.sphere object at 0x7f5a7a8becc0>, <vpython.vpython.sphere object at 0x7f5a7a8be5c0>, <vpython.vpython.sphere object at 0x7f5a7b123080>, <vpython.vpython.sphere object at 0x7f5a7b131198>, <vpython.vpython.sphere object at 0x7f5a7b1317b8>, <vpython.vpython.sphere object at 0x7f5a7a8be9b0>, <vpython.vpython.sphere object at 0x7f5a7a8c9a90>, <vpython.vpython.sphere object at 0x7f5a7a8c9828>, <vpython.vpython.sphere object at 0x7f5a7a8c95c0>, <vpython.vpython.sphere object at 0x7f5a7a8c9358>, <vpython.vpython.sphere object at 0x7f5a7a8c90f0>, <vpython.vpython.sphere object at 0x7f5a7a8c9e10>, <vpython.vpython.sphere object at 0x7f5a7a8cd0b8>, <vpython.vpython.sphere object at 0x7f5a7a8cd320>, <vpython.vpython.sphere object at 0x7f5a7a8cd588>, <vpython.vpython.sphere object at 0x7f5a7a8cd7f0>, <vpython.vpython.sphere object at 0x7f5a7a8cda58>, <vpython.vpython.sphere object at 0x7f5a7a8cdcc0>, <vpython.vpython.sphere object at 0x7f5a7a8cdf28>, <vpython.vpython.sphere object at 0x7f5a7a8cdf60>, <vpython.vpython.sphere object at 0x7f5a7a8cd978>, <vpython.vpython.sphere object at 0x7f5a7a8cd358>, <vpython.vpython.sphere object at 0x7f5a7a8c9c88>, <vpython.vpython.sphere object at 0x7f5a7a8c9710>, <vpython.vpython.sphere object at 0x7f5a7a8be320>, <vpython.vpython.sphere object at 0x7f5a80037eb8>, <vpython.vpython.sphere object at 0x7f5a7a8c1240>, <vpython.vpython.sphere object at 0x7f5a7a8c14a8>, <vpython.vpython.sphere object at 0x7f5a7a8c1710>, <vpython.vpython.sphere object at 0x7f5a7a8c1978>, <vpython.vpython.sphere object at 0x7f5a7a8c1be0>, <vpython.vpython.sphere object at 0x7f5a7a8c1e48>, <vpython.vpython.sphere object at 0x7f5a7a8dbda0>, <vpython.vpython.sphere object at 0x7f5a7a8dbef0>, <vpython.vpython.sphere object at 0x7f5a7a8df198>, <vpython.vpython.sphere object at 0x7f5a7a8df400>, <vpython.vpython.sphere object at 0x7f5a7a8df668>, <vpython.vpython.sphere object at 0x7f5a7a8dbfd0>, <vpython.vpython.sphere object at 0x7f5a7a8db630>, <vpython.vpython.sphere object at 0x7f5a7a8db3c8>, <vpython.vpython.sphere object at 0x7f5a7a8db160>, <vpython.vpython.sphere object at 0x7f5a7a8d6eb8>, <vpython.vpython.sphere object at 0x7f5a7a8d60b8>, <vpython.vpython.sphere object at 0x7f5a7a8d6320>, <vpython.vpython.sphere object at 0x7f5a7a8d6588>, <vpython.vpython.sphere object at 0x7f5a7a8d67f0>, <vpython.vpython.sphere object at 0x7f5a7a8d6a58>, <vpython.vpython.sphere object at 0x7f5a7a8cddd8>, <vpython.vpython.sphere object at 0x7f5a7a8c90b8>, <vpython.vpython.sphere object at 0x7f5a7b131240>, <vpython.vpython.sphere object at 0x7f5a7a8c15c0>, <vpython.vpython.sphere object at 0x7f5a7a8c1cc0>, <vpython.vpython.sphere object at 0x7f5a7a8d0390>, <vpython.vpython.sphere object at 0x7f5a7a8d05f8>, <vpython.vpython.sphere object at 0x7f5a7a8d0860>, <vpython.vpython.sphere object at 0x7f5a7a8d0ac8>, <vpython.vpython.sphere object at 0x7f5a7a8d0d30>, <vpython.vpython.sphere object at 0x7f5a7a8d0f98>, <vpython.vpython.sphere object at 0x7f5a7a8df518>, <vpython.vpython.sphere object at 0x7f5a7a8dfa90>, <vpython.vpython.sphere object at 0x7f5a7a8dfcf8>, <vpython.vpython.sphere object at 0x7f5a7a8dff60>, <vpython.vpython.sphere object at 0x7f5a7a8d6400>, <vpython.vpython.sphere object at 0x7f5a7a8d6710>, <vpython.vpython.sphere object at 0x7f5a7a8cd6a0>, <vpython.vpython.sphere object at 0x7f5a7a8c1828>, <vpython.vpython.sphere object at 0x7f5a7a8d0630>, <vpython.vpython.sphere object at 0x7f5a7a8d0c50>, <vpython.vpython.sphere object at 0x7f5a7a8df0b8>, <vpython.vpython.sphere object at 0x7f5a7a8f1860>, <vpython.vpython.sphere object at 0x7f5a7a8f15f8>, <vpython.vpython.sphere object at 0x7f5a7a8f1390>, <vpython.vpython.sphere object at 0x7f5a7a8f1128>, <vpython.vpython.sphere object at 0x7f5a7a8f1c18>, <vpython.vpython.sphere object at 0x7f5a7a8f1e80>, <vpython.vpython.sphere object at 0x7f5a7a8f4128>, <vpython.vpython.sphere object at 0x7f5a7a8f4390>, <vpython.vpython.sphere object at 0x7f5a7a8f45f8>, <vpython.vpython.sphere object at 0x7f5a7a8f4860>, <vpython.vpython.sphere object at 0x7f5a7a8f4ac8>, <vpython.vpython.sphere object at 0x7f5a7a8f1f98>, <vpython.vpython.sphere object at 0x7f5a7a8f1208>, <vpython.vpython.sphere object at 0x7f5a7a8f1828>, <vpython.vpython.sphere object at 0x7f5a7a8d0898>, <vpython.vpython.sphere object at 0x7f5a7a8d6a90>, <vpython.vpython.sphere object at 0x7f5a7a8e83c8>, <vpython.vpython.sphere object at 0x7f5a7a8e8630>, <vpython.vpython.sphere object at 0x7f5a7a8e8898>, <vpython.vpython.sphere object at 0x7f5a7a8e8c18>, <vpython.vpython.sphere object at 0x7f5a7a8e8e80>, <vpython.vpython.sphere object at 0x7f5a7a8f49e8>, <vpython.vpython.sphere object at 0x7f5a7a8f43c8>, <vpython.vpython.sphere object at 0x7f5a7a87d6a0>, <vpython.vpython.sphere object at 0x7f5a7a87d550>, <vpython.vpython.sphere object at 0x7f5a7a87d2e8>, <vpython.vpython.sphere object at 0x7f5a7a87d080>, <vpython.vpython.sphere object at 0x7f5a7a87dcf8>, <vpython.vpython.sphere object at 0x7f5a7a87df60>, <vpython.vpython.sphere object at 0x7f5a7a87c208>, <vpython.vpython.sphere object at 0x7f5a7a87c470>, <vpython.vpython.sphere object at 0x7f5a7a87df98>, <vpython.vpython.sphere object at 0x7f5a7a87d160>, <vpython.vpython.sphere object at 0x7f5a7b1177f0>, <vpython.vpython.sphere object at 0x7f5a7b10deb8>, <vpython.vpython.sphere object at 0x7f5a7b123668>, <vpython.vpython.sphere object at 0x7f5a7b131d30>, <vpython.vpython.sphere object at 0x7f5a7b13a2e8>, <vpython.vpython.sphere object at 0x7f5a7b13a550>, <vpython.vpython.sphere object at 0x7f5a7a8c9b70>, <vpython.vpython.sphere object at 0x7f5a7b11f8d0>, <vpython.vpython.sphere object at 0x7f5a7a8d6cc0>, <vpython.vpython.sphere object at 0x7f5a7a8db710>, <vpython.vpython.sphere object at 0x7f5a7a8db978>, <vpython.vpython.sphere object at 0x7f5a7a8dbbe0>, <vpython.vpython.sphere object at 0x7f5a7a8db4a8>, <vpython.vpython.sphere object at 0x7f5a7a8f1a58>, <vpython.vpython.sphere object at 0x7f5a7a8e8208>, <vpython.vpython.sphere object at 0x7f5a7a8e8400>, <vpython.vpython.sphere object at 0x7f5a7a8e8a20>, <vpython.vpython.sphere object at 0x7f5a7a8f4780>, <vpython.vpython.sphere object at 0x7f5a7a8f4fd0>, <vpython.vpython.sphere object at 0x7f5a7a87c4a8>, <vpython.vpython.sphere object at 0x7f5a7b1170b8>, <vpython.vpython.sphere object at 0x7f5a7b123438>, <vpython.vpython.sphere object at 0x7f5a7b13a588>, <vpython.vpython.sphere object at 0x7f5a7b128278>, <vpython.vpython.sphere object at 0x7f5a7a8dba90>, <vpython.vpython.sphere object at 0x7f5a7a8f1cf8>, <vpython.vpython.sphere object at 0x7f5a7a8e8c50>, <vpython.vpython.sphere object at 0x7f5a7a892710>, <vpython.vpython.sphere object at 0x7f5a7a892470>, <vpython.vpython.sphere object at 0x7f5a7a892208>, <vpython.vpython.sphere object at 0x7f5a7a8927f0>, <vpython.vpython.sphere object at 0x7f5a7a892a58>, <vpython.vpython.sphere object at 0x7f5a7a892cc0>, <vpython.vpython.sphere object at 0x7f5a7a892f28>, <vpython.vpython.sphere object at 0x7f5a7a8911d0>, <vpython.vpython.sphere object at 0x7f5a7a891438>, <vpython.vpython.sphere object at 0x7f5a7a8916a0>, <vpython.vpython.sphere object at 0x7f5a7a891908>, <vpython.vpython.sphere object at 0x7f5a7a891b70>, <vpython.vpython.sphere object at 0x7f5a7a891dd8>, <vpython.vpython.sphere object at 0x7f5a7a895080>, <vpython.vpython.sphere object at 0x7f5a7a891ef0>, <vpython.vpython.sphere object at 0x7f5a7a891ba8>, <vpython.vpython.sphere object at 0x7f5a7a891518>, <vpython.vpython.sphere object at 0x7f5a7a892dd8>, <vpython.vpython.sphere object at 0x7f5a7a892080>, <vpython.vpython.sphere object at 0x7f5a7a8926d8>, <vpython.vpython.sphere object at 0x7f5a7a8dbcf8>, <vpython.vpython.sphere object at 0x7f5a7b13a198>, <vpython.vpython.sphere object at 0x7f5a7a87ce10>, <vpython.vpython.sphere object at 0x7f5a7a899710>, <vpython.vpython.sphere object at 0x7f5a7a8995c0>, <vpython.vpython.sphere object at 0x7f5a7a899358>, <vpython.vpython.sphere object at 0x7f5a7a8990f0>, <vpython.vpython.sphere object at 0x7f5a7a8a21d0>, <vpython.vpython.sphere object at 0x7f5a7a8a2438>, <vpython.vpython.sphere object at 0x7f5a7a8a26a0>, <vpython.vpython.sphere object at 0x7f5a7a8a2908>, <vpython.vpython.sphere object at 0x7f5a7a8a2b70>, <vpython.vpython.sphere object at 0x7f5a7a8991d0>, <vpython.vpython.sphere object at 0x7f5a7a8994e0>, <vpython.vpython.sphere object at 0x7f5a7a899f98>, <vpython.vpython.sphere object at 0x7f5a7a89ddd8>, <vpython.vpython.sphere object at 0x7f5a7a89db70>, <vpython.vpython.sphere object at 0x7f5a7a89d908>, <vpython.vpython.sphere object at 0x7f5a7a89d1d0>, <vpython.vpython.sphere object at 0x7f5a7a89d438>, <vpython.vpython.sphere object at 0x7f5a7a89d6d8>, <vpython.vpython.sphere object at 0x7f5a7a8912b0>, <vpython.vpython.sphere object at 0x7f5a7a8f4eb8>, <vpython.vpython.sphere object at 0x7f5a7a87c6d8>, <vpython.vpython.sphere object at 0x7f5a7a895518>, <vpython.vpython.sphere object at 0x7f5a7a895780>, <vpython.vpython.sphere object at 0x7f5a7a8959e8>, <vpython.vpython.sphere object at 0x7f5a7a895c50>, <vpython.vpython.sphere object at 0x7f5a7a895eb8>, <vpython.vpython.sphere object at 0x7f5a7a8a2a90>, <vpython.vpython.sphere object at 0x7f5a7a8a2470>, <vpython.vpython.sphere object at 0x7f5a7a8a2f98>, <vpython.vpython.sphere object at 0x7f5a7a8ab240>, <vpython.vpython.sphere object at 0x7f5a7a8ab780>, <vpython.vpython.sphere object at 0x7f5a7a8ab8d0>, <vpython.vpython.sphere object at 0x7f5a7a899588>, <vpython.vpython.sphere object at 0x7f5a7a89dc50>, <vpython.vpython.sphere object at 0x7f5a7a89d2e8>, <vpython.vpython.sphere object at 0x7f5a7a892b70>, <vpython.vpython.sphere object at 0x7f5a7a895550>, <vpython.vpython.sphere object at 0x7f5a7a895b70>, <vpython.vpython.sphere object at 0x7f5a7a8a27b8>, <vpython.vpython.sphere object at 0x7f5a7a8b83c8>, <vpython.vpython.sphere object at 0x7f5a7a8b8160>, <vpython.vpython.sphere object at 0x7f5a7a8b8630>, <vpython.vpython.sphere object at 0x7f5a7a8b8898>, <vpython.vpython.sphere object at 0x7f5a7a8b8b00>, <vpython.vpython.sphere object at 0x7f5a7a8b8d68>, <vpython.vpython.sphere object at 0x7f5a7a8b8fd0>, <vpython.vpython.sphere object at 0x7f5a7a8b0da0>, <vpython.vpython.sphere object at 0x7f5a7a8b0b38>, <vpython.vpython.sphere object at 0x7f5a7a8b08d0>, <vpython.vpython.sphere object at 0x7f5a7a8b0668>, <vpython.vpython.sphere object at 0x7f5a7a8b0400>, <vpython.vpython.sphere object at 0x7f5a7a8b0198>, <vpython.vpython.sphere object at 0x7f5a7a8b02e8>, <vpython.vpython.sphere object at 0x7f5a7a8b09b0>, <vpython.vpython.sphere object at 0x7f5a7a8b0fd0>, <vpython.vpython.sphere object at 0x7f5a7a8b8978>, <vpython.vpython.sphere object at 0x7f5a7a8b82b0>, <vpython.vpython.sphere object at 0x7f5a7a895908>, <vpython.vpython.sphere object at 0x7f5a7a89d358>, <vpython.vpython.sphere object at 0x7f5a7a8ab9b0>]\n",
      "<vpython.vpython.sphere object at 0x7f5a80037c18>\n"
     ]
    }
   ],
   "source": [
    "from flat_game.Car3d import *\n",
    "game_state = GameState(vector(0.3,0.4,0.66))\n"
   ]
  }
 ],
 "metadata": {
  "kernelspec": {
   "display_name": "VPython",
   "language": "python",
   "name": "vpython"
  },
  "language_info": {
   "codemirror_mode": {
    "name": "ipython",
    "version": 3
   },
   "file_extension": ".py",
   "mimetype": "text/x-python",
   "name": "python",
   "nbconvert_exporter": "python",
   "pygments_lexer": "ipython3",
   "version": "3.5.1"
  }
 },
 "nbformat": 4,
 "nbformat_minor": 0
}
